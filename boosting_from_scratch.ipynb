{
 "cells": [
  {
   "cell_type": "markdown",
   "metadata": {},
   "source": [
    "# Adaboost\n",
    "I will implement AdaBoost from scratch and applied it to a spam dataset, classifying data into spam and not spam. DecisionTreeClassifier from sklearn (with default max_depth=1) can be called as base classifiers.\n",
    "\n",
    "`\n",
    "h = DecisionTreeClassifier(max_depth=max_depth, random_state=0)\n",
    "h.fit(X, Y, sample_weight=w)\n",
    "`"
   ]
  },
  {
   "cell_type": "code",
   "execution_count": 1,
   "metadata": {
    "ExecuteTime": {
     "end_time": "2019-04-11T08:50:03.374957Z",
     "start_time": "2019-04-11T08:50:03.043820Z"
    }
   },
   "outputs": [],
   "source": [
    "import numpy as np\n",
    "from sklearn.tree import DecisionTreeClassifier"
   ]
  },
  {
   "cell_type": "code",
   "execution_count": 2,
   "metadata": {
    "ExecuteTime": {
     "end_time": "2019-04-11T08:50:11.187701Z",
     "start_time": "2019-04-11T08:50:11.184593Z"
    }
   },
   "outputs": [],
   "source": [
    "# accuracy computation\n",
    "# this data is not highly imbalance so accuracy is ok\n",
    "def accuracy(y, pred):\n",
    "    return np.sum(y == pred) / float(len(y)) "
   ]
  },
  {
   "cell_type": "code",
   "execution_count": 3,
   "metadata": {
    "ExecuteTime": {
     "end_time": "2019-04-11T08:50:19.121136Z",
     "start_time": "2019-04-11T08:50:19.116553Z"
    }
   },
   "outputs": [],
   "source": [
    "def parse_spambase_data(filename):\n",
    "    \"\"\" Given a filename return X and Y numpy arrays\n",
    "\n",
    "    X is of size number of rows x num_features\n",
    "    Y is an array of size the number of rows\n",
    "    Y is the last element of each row. (Convert 0 to -1)\n",
    "    \"\"\"\n",
    "    import pandas as pd\n",
    "    df = pd.read_csv(filename, header=None)\n",
    "    X = df.iloc[:,:-1]\n",
    "    Y = df.iloc[:,-1]\n",
    "    Y = [-1 if elem == 0 else elem for elem in Y]\n",
    "    return X, Y"
   ]
  },
  {
   "cell_type": "code",
   "execution_count": 4,
   "metadata": {
    "ExecuteTime": {
     "end_time": "2019-04-11T08:50:26.057303Z",
     "start_time": "2019-04-11T08:50:25.589383Z"
    }
   },
   "outputs": [],
   "source": [
    "y_test = np.array([1., -1., 1., 1., -1., -1., 1., 1., 1., -1.])\n",
    "X, Y = parse_spambase_data(\"tiny.spam.train\")\n",
    "for i in range(len(y_test)): assert(y_test[i] == Y[i])\n",
    "n, m = X.shape"
   ]
  },
  {
   "cell_type": "code",
   "execution_count": 5,
   "metadata": {
    "ExecuteTime": {
     "end_time": "2019-04-11T08:50:46.397100Z",
     "start_time": "2019-04-11T08:50:46.390158Z"
    }
   },
   "outputs": [],
   "source": [
    "def adaboost(X, y, num_iter, max_depth=1):\n",
    "    \"\"\"Given an numpy matrix X, a array y and num_iter return trees and weights \n",
    "   \n",
    "    Input: X, y, num_iter\n",
    "    Outputs: array of trees from DecisionTreeClassifier\n",
    "             trees_weights array of floats\n",
    "    Assumes y is {-1, 1}\n",
    "    \"\"\"\n",
    "    trees = []\n",
    "    trees_weights = [] \n",
    "    N, _ = X.shape\n",
    "    d = np.ones(N) / N\n",
    "    epsilon = 0.0001\n",
    "\n",
    "    for j in range(num_iter):\n",
    "        h = DecisionTreeClassifier(max_depth=max_depth, random_state=0)\n",
    "        h.fit(X, y, sample_weight=d)\n",
    "        trees.append(h)\n",
    "        pred = h.predict(X)\n",
    "        error = [1 if y[i] != pred[i] else 0 for i in range(len(y))]\n",
    "        err = np.sum(np.multiply(d, error))/np.sum(d)\n",
    "        if err < epsilon: err = epsilon\n",
    "        alpha = np.log((1-err)/err)\n",
    "        trees_weights.append(alpha)\n",
    "        d = [d[i]*np.exp(alpha*error[i]) for i in range(len(d))]\n",
    "    return trees, trees_weights"
   ]
  },
  {
   "cell_type": "code",
   "execution_count": 6,
   "metadata": {
    "ExecuteTime": {
     "end_time": "2019-04-11T08:50:56.321282Z",
     "start_time": "2019-04-11T08:50:56.304928Z"
    }
   },
   "outputs": [],
   "source": [
    "X, Y = parse_spambase_data(\"tiny.spam.train\")\n",
    "trees, weights = adaboost(X, Y, 2)\n",
    "y_hat_0 = trees[0].predict(X)"
   ]
  },
  {
   "cell_type": "code",
   "execution_count": 7,
   "metadata": {
    "ExecuteTime": {
     "end_time": "2019-04-11T08:51:15.364547Z",
     "start_time": "2019-04-11T08:51:15.359989Z"
    }
   },
   "outputs": [],
   "source": [
    "def adaboost_predict(X, trees, trees_weights):\n",
    "    \"\"\"Given X, trees and weights predict Y\n",
    "    \"\"\"\n",
    "    # X input, y output\n",
    "    N, _ =  X.shape\n",
    "    y = np.zeros(N)\n",
    "    for i in range(N):\n",
    "        y_hat = np.sum(np.multiply(trees_weights, [tree.predict(X)[i] for tree in trees]))\n",
    "        if y_hat > 0: y[i] = 1\n",
    "        else: y[i] = -1\n",
    "    return y"
   ]
  },
  {
   "cell_type": "code",
   "execution_count": 8,
   "metadata": {
    "ExecuteTime": {
     "end_time": "2019-04-11T08:51:23.739780Z",
     "start_time": "2019-04-11T08:51:23.734489Z"
    }
   },
   "outputs": [],
   "source": [
    "x = np.array([[0, -1], [1, 0], [-1, 0]])\n",
    "y = np.array([-1, 1, 1])\n",
    "trees, weights = adaboost(x, y, 1)\n",
    "pred = adaboost_predict(x, trees, weights)"
   ]
  },
  {
   "cell_type": "code",
   "execution_count": 9,
   "metadata": {
    "ExecuteTime": {
     "end_time": "2019-04-11T08:52:02.880504Z",
     "start_time": "2019-04-11T08:51:31.853045Z"
    }
   },
   "outputs": [
    {
     "name": "stdout",
     "output_type": "stream",
     "text": [
      "Train Accuracy 0.9111\n",
      "Test Accuracy 0.9190\n"
     ]
    }
   ],
   "source": [
    "X, Y = parse_spambase_data(\"spambase.train\")\n",
    "X_test, Y_test = parse_spambase_data(\"spambase.test\")\n",
    "trees, trees_weights = adaboost(X, Y, 10)\n",
    "Yhat = adaboost_predict(X, trees, trees_weights)\n",
    "Yhat_test = adaboost_predict(X_test, trees, trees_weights)\n",
    "    \n",
    "acc_test = accuracy(Y_test, Yhat_test)\n",
    "acc_train = accuracy(Y, Yhat)\n",
    "print(\"Train Accuracy %.4f\" % acc_train)\n",
    "print(\"Test Accuracy %.4f\" % acc_test)"
   ]
  },
  {
   "cell_type": "markdown",
   "metadata": {},
   "source": [
    "# Gradient boosting for regression with MSE loss\n",
    "Then I will implement a version of gradient boosting from scratch and applied it to predict rental prices. DecisionTreeRegressor from sklearn can be called as base classifiers.\n",
    " \n",
    "`tree = DecisionTreeRegressor(max_depth=max_depth, random_state=0)`"
   ]
  },
  {
   "cell_type": "code",
   "execution_count": 12,
   "metadata": {
    "ExecuteTime": {
     "end_time": "2019-04-11T08:53:00.018159Z",
     "start_time": "2019-04-11T08:53:00.014642Z"
    }
   },
   "outputs": [],
   "source": [
    "def load_dataset():\n",
    "    dataset = np.loadtxt(\"rent-ideal.csv\", delimiter=\",\", skiprows=1)\n",
    "    y = dataset[:, -1]\n",
    "    X = dataset[:, 0:- 1]\n",
    "    return X, y"
   ]
  },
  {
   "cell_type": "code",
   "execution_count": 13,
   "metadata": {
    "ExecuteTime": {
     "end_time": "2019-04-11T08:53:15.781096Z",
     "start_time": "2019-04-11T08:53:15.768352Z"
    }
   },
   "outputs": [],
   "source": [
    "from sklearn.tree import DecisionTreeRegressor\n",
    "from sklearn.metrics import r2_score\n",
    "from sklearn.model_selection import train_test_split\n",
    "\n",
    "\n",
    "def gradient_boosting_mse(X, y, num_iter, max_depth=1, nu=0.1):\n",
    "    \"\"\"Given X, a array y and num_iter return y_mean and trees \n",
    "   \n",
    "    Input: X, y, num_iter\n",
    "           max_depth\n",
    "           nu (is the shinkage)\n",
    "    Outputs:y_mean, array of trees from DecisionTreeRegression\n",
    "    \"\"\"\n",
    "    trees = []\n",
    "    N, _ = X.shape\n",
    "    y_mean = np.mean(y)\n",
    "    fm = y_mean\n",
    "    \n",
    "    for i in range(num_iter):\n",
    "        resid = y - fm\n",
    "        tree = DecisionTreeRegressor(max_depth=max_depth, random_state=0)\n",
    "        tree.fit(X, resid)\n",
    "        trees.append(tree)\n",
    "        fm = fm + nu * tree.predict(X)\n",
    "    return y_mean, trees"
   ]
  },
  {
   "cell_type": "code",
   "execution_count": 14,
   "metadata": {
    "ExecuteTime": {
     "end_time": "2019-04-11T08:53:23.646813Z",
     "start_time": "2019-04-11T08:53:23.643361Z"
    }
   },
   "outputs": [],
   "source": [
    "def gradient_boosting_predict(X, trees, y_mean,  nu=0.1):\n",
    "    \"\"\"Given X, trees, y_mean predict y_hat\n",
    "    \"\"\"\n",
    "    y_hat = y_mean\n",
    "    for tree in trees:\n",
    "        y_hat = y_hat + nu * tree.predict(X)\n",
    "    return y_hat"
   ]
  },
  {
   "cell_type": "code",
   "execution_count": 15,
   "metadata": {
    "ExecuteTime": {
     "end_time": "2019-04-11T08:53:41.088561Z",
     "start_time": "2019-04-11T08:53:33.239870Z"
    }
   },
   "outputs": [],
   "source": [
    "X, y = load_dataset()\n",
    "X_train, X_val, y_train, y_val = train_test_split(X, y, test_size=0.33, random_state=3)\n",
    "\n",
    "y_mean, trees = gradient_boosting_mse(X_train, y_train, 300, max_depth=7, nu=0.1)\n",
    "y_hat_train = gradient_boosting_predict(X_train, trees, y_mean, nu=0.1)"
   ]
  },
  {
   "cell_type": "code",
   "execution_count": 16,
   "metadata": {
    "ExecuteTime": {
     "end_time": "2019-04-11T08:53:42.807036Z",
     "start_time": "2019-04-11T08:53:42.665731Z"
    }
   },
   "outputs": [],
   "source": [
    "y_hat = gradient_boosting_predict(X_val, trees, y_mean, nu=0.1)"
   ]
  },
  {
   "cell_type": "markdown",
   "metadata": {},
   "source": [
    "## Metric as a function of the number of trees\n",
    "Fix the Shrinkage to 0.1, find the best value for numTrees and corresponding train and validation R^2."
   ]
  },
  {
   "cell_type": "code",
   "execution_count": 17,
   "metadata": {
    "ExecuteTime": {
     "end_time": "2019-04-11T09:00:49.177211Z",
     "start_time": "2019-04-11T08:53:55.948264Z"
    }
   },
   "outputs": [],
   "source": [
    "r2_train = []\n",
    "r2_val = []\n",
    "for numTrees in range(500, 3000, 250):\n",
    "    y_mean, trees = gradient_boosting_mse(X_train, y_train, numTrees, max_depth=7, nu=0.1)\n",
    "    y_hat_train = gradient_boosting_predict(X_train, trees, y_mean, nu=0.1)\n",
    "    r2_train.append(np.around(r2_score(y_train, y_hat_train), decimals=4))\n",
    "    y_hat = gradient_boosting_predict(X_val, trees, y_mean, nu=0.1)\n",
    "    r2_val.append(np.around(r2_score(y_val, y_hat), decimals=4))"
   ]
  },
  {
   "cell_type": "code",
   "execution_count": 18,
   "metadata": {
    "ExecuteTime": {
     "end_time": "2019-04-11T09:00:49.435901Z",
     "start_time": "2019-04-11T09:00:49.179161Z"
    }
   },
   "outputs": [
    {
     "data": {
      "text/plain": [
       "<matplotlib.legend.Legend at 0x1a1e030c50>"
      ]
     },
     "execution_count": 18,
     "metadata": {},
     "output_type": "execute_result"
    }
   ],
   "source": [
    "import matplotlib.pyplot as plt\n",
    "\n",
    "plt.figure(figsize=(10,6))\n",
    "plt.xlabel(\"numTrees\")\n",
    "plt.ylabel(\"r2\")\n",
    "plt.grid()\n",
    "plt.plot(range(500,3000,250), r2_train, label=\"gdb_train\")\n",
    "plt.plot(range(500,3000,250), r2_val, label=\"gdb_val\")\n",
    "plt.legend(loc=\"upper left\")"
   ]
  },
  {
   "cell_type": "markdown",
   "metadata": {},
   "source": [
    "When numTrees reach 1500, $r^2$ of validation set does not increase any more. When numTrees > 2000, $r^2$ of validation set starts to decrease. Therefore, the best value of numTrees is 1500."
   ]
  },
  {
   "cell_type": "markdown",
   "metadata": {},
   "source": [
    "## Hyper-parameters exploration\n",
    "Compare results with gradient boosting package (XGBoost). Explore the hyper parameters given in the package."
   ]
  },
  {
   "cell_type": "markdown",
   "metadata": {},
   "source": [
    "### min_child_weight = 0"
   ]
  },
  {
   "cell_type": "code",
   "execution_count": 19,
   "metadata": {
    "ExecuteTime": {
     "end_time": "2019-04-11T09:06:00.405129Z",
     "start_time": "2019-04-11T09:00:49.437212Z"
    }
   },
   "outputs": [],
   "source": [
    "import xgboost as xgb\n",
    "\n",
    "xgb_pars = {'min_child_weight': 0, 'eta': 0.1, 'colsample_bytree': 1, 'max_depth': 7,\n",
    "            'subsample': 0.5, 'lambda': 1., 'nthread': -1, 'booster' : 'gbtree', 'silent': 1,\n",
    "            'eval_metric': 'rmse', 'objective': 'reg:linear'}\n",
    "dtrain = xgb.DMatrix(X_train, label=y_train)\n",
    "dvalid = xgb.DMatrix(X_val, label=y_val)\n",
    "\n",
    "r2_xgb_train = []\n",
    "r2_xgb_val = []\n",
    "for numTrees in range(500,3000,250):\n",
    "    gbm = xgb.train(xgb_pars, dtrain, numTrees)\n",
    "    xgb_train = gbm.predict(dtrain)\n",
    "    xgb_val = gbm.predict(dvalid)\n",
    "    r2_xgb_train.append(np.around(r2_score(y_train, xgb_train), decimals=4))\n",
    "    r2_xgb_val.append(np.around(r2_score(y_val, xgb_val), decimals=4))"
   ]
  },
  {
   "cell_type": "code",
   "execution_count": 20,
   "metadata": {
    "ExecuteTime": {
     "end_time": "2019-04-11T09:06:00.634924Z",
     "start_time": "2019-04-11T09:06:00.407345Z"
    }
   },
   "outputs": [
    {
     "data": {
      "text/plain": [
       "<matplotlib.legend.Legend at 0x1a1e222e80>"
      ]
     },
     "execution_count": 20,
     "metadata": {},
     "output_type": "execute_result"
    },
    {
     "data": {
      "image/png": "[encoded data removed]",
      "text/plain": [
       "<Figure size 720x432 with 1 Axes>"
      ]
     },
     "metadata": {
      "needs_background": "light"
     },
     "output_type": "display_data"
    }
   ],
   "source": [
    "plt.figure(figsize=(10,6))\n",
    "plt.xlabel(\"numTrees\")\n",
    "plt.ylabel(\"r2\")\n",
    "plt.title(\"min_child_weight = 0\")\n",
    "plt.grid()\n",
    "plt.plot(range(500,3000,250), r2_train, label=\"gdb_train\")\n",
    "plt.plot(range(500,3000,250), r2_val, label=\"gdb_val\")\n",
    "plt.plot(range(500,3000,250), r2_xgb_train, label=\"xgb_train\")\n",
    "plt.plot(range(500,3000,250), r2_xgb_val, label=\"xgb_val\")\n",
    "plt.legend(loc=\"upper left\")"
   ]
  },
  {
   "cell_type": "markdown",
   "metadata": {},
   "source": [
    "### min_child_weight = 5"
   ]
  },
  {
   "cell_type": "code",
   "execution_count": 21,
   "metadata": {
    "ExecuteTime": {
     "end_time": "2019-04-11T09:11:11.632821Z",
     "start_time": "2019-04-11T09:06:00.636832Z"
    }
   },
   "outputs": [
    {
     "data": {
      "text/plain": [
       "<matplotlib.legend.Legend at 0x1a1e4596d8>"
      ]
     },
     "execution_count": 21,
     "metadata": {},
     "output_type": "execute_result"
    },
    {
     "data": {
      "image/png": "[encoded data removed]",
      "text/plain": [
       "<Figure size 720x432 with 1 Axes>"
      ]
     },
     "metadata": {
      "needs_background": "light"
     },
     "output_type": "display_data"
    }
   ],
   "source": [
    "xgb_pars = {'min_child_weight': 5, 'eta': 0.1, 'colsample_bytree': 1, 'max_depth': 7,\n",
    "            'subsample': 0.5, 'lambda': 1., 'nthread': -1, 'booster' : 'gbtree', 'silent': 1,\n",
    "            'eval_metric': 'rmse', 'objective': 'reg:linear'}\n",
    "dtrain = xgb.DMatrix(X_train, label=y_train)\n",
    "dvalid = xgb.DMatrix(X_val, label=y_val)\n",
    "\n",
    "r2_xgb_train = []\n",
    "r2_xgb_val = []\n",
    "for numTrees in range(500,3000,250):\n",
    "    gbm = xgb.train(xgb_pars, dtrain, numTrees)\n",
    "    xgb_train = gbm.predict(dtrain)\n",
    "    xgb_val = gbm.predict(dvalid)\n",
    "    r2_xgb_train.append(np.around(r2_score(y_train, xgb_train), decimals=4))\n",
    "    r2_xgb_val.append(np.around(r2_score(y_val, xgb_val), decimals=4))\n",
    "    \n",
    "\n",
    "plt.figure(figsize=(10,6))\n",
    "plt.xlabel(\"numTrees\")\n",
    "plt.ylabel(\"r2\")\n",
    "plt.title(\"min_child_weight = 5\")\n",
    "plt.grid()\n",
    "plt.plot(range(500,3000,250), r2_train, label=\"gdb_train\")\n",
    "plt.plot(range(500,3000,250), r2_val, label=\"gdb_val\")\n",
    "plt.plot(range(500,3000,250), r2_xgb_train, label=\"xgb_train\")\n",
    "plt.plot(range(500,3000,250), r2_xgb_val, label=\"xgb_val\")\n",
    "plt.legend(loc=\"upper left\")"
   ]
  },
  {
   "cell_type": "markdown",
   "metadata": {},
   "source": [
    "### min_child_weight = 15"
   ]
  },
  {
   "cell_type": "code",
   "execution_count": 22,
   "metadata": {
    "ExecuteTime": {
     "end_time": "2019-04-11T09:16:12.863736Z",
     "start_time": "2019-04-11T09:11:11.634293Z"
    }
   },
   "outputs": [
    {
     "data": {
      "text/plain": [
       "<matplotlib.legend.Legend at 0x1a20a1ee48>"
      ]
     },
     "execution_count": 22,
     "metadata": {},
     "output_type": "execute_result"
    },
    {
     "data": {
      "image/png": "[encoded data removed]",
      "text/plain": [
       "<Figure size 720x432 with 1 Axes>"
      ]
     },
     "metadata": {
      "needs_background": "light"
     },
     "output_type": "display_data"
    }
   ],
   "source": [
    "xgb_pars = {'min_child_weight': 15, 'eta': 0.1, 'colsample_bytree': 1, 'max_depth': 7,\n",
    "            'subsample': 0.5, 'lambda': 1., 'nthread': -1, 'booster' : 'gbtree', 'silent': 1,\n",
    "            'eval_metric': 'rmse', 'objective': 'reg:linear'}\n",
    "dtrain = xgb.DMatrix(X_train, label=y_train)\n",
    "dvalid = xgb.DMatrix(X_val, label=y_val)\n",
    "\n",
    "r2_xgb_train = []\n",
    "r2_xgb_val = []\n",
    "for numTrees in range(500,3000,250):\n",
    "    gbm = xgb.train(xgb_pars, dtrain, numTrees)\n",
    "    xgb_train = gbm.predict(dtrain)\n",
    "    xgb_val = gbm.predict(dvalid)\n",
    "    r2_xgb_train.append(np.around(r2_score(y_train, xgb_train), decimals=4))\n",
    "    r2_xgb_val.append(np.around(r2_score(y_val, xgb_val), decimals=4))\n",
    "    \n",
    "\n",
    "plt.figure(figsize=(10,6))\n",
    "plt.xlabel(\"numTrees\")\n",
    "plt.ylabel(\"r2\")\n",
    "plt.title(\"min_child_weight = 15\")\n",
    "plt.grid()\n",
    "plt.plot(range(500,3000,250), r2_train, label=\"gdb_train\")\n",
    "plt.plot(range(500,3000,250), r2_val, label=\"gdb_val\")\n",
    "plt.plot(range(500,3000,250), r2_xgb_train, label=\"xgb_train\")\n",
    "plt.plot(range(500,3000,250), r2_xgb_val, label=\"xgb_val\")\n",
    "plt.legend(loc=\"upper left\")"
   ]
  },
  {
   "cell_type": "markdown",
   "metadata": {},
   "source": [
    "Based on the parameters I choose and the relative position of xgb_val and dgb_val, I may conclude that the gradient boosting I implemented myself is better than the XGBoost package."
   ]
  },
  {
   "cell_type": "code",
   "execution_count": null,
   "metadata": {},
   "outputs": [],
   "source": []
  }
 ],
 "metadata": {
  "kernelspec": {
   "display_name": "Python 3",
   "language": "python",
   "name": "python3"
  },
  "language_info": {
   "codemirror_mode": {
    "name": "ipython",
    "version": 3
   },
   "file_extension": ".py",
   "mimetype": "text/x-python",
   "name": "python",
   "nbconvert_exporter": "python",
   "pygments_lexer": "ipython3",
   "version": "3.6.7"
  }
 },
 "nbformat": 4,
 "nbformat_minor": 2
}
